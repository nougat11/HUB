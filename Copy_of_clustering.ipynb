{
  "nbformat": 4,
  "nbformat_minor": 0,
  "metadata": {
    "kernelspec": {
      "display_name": "Python 3",
      "language": "python",
      "name": "python3"
    },
    "language_info": {
      "codemirror_mode": {
        "name": "ipython",
        "version": 3
      },
      "file_extension": ".py",
      "mimetype": "text/x-python",
      "name": "python",
      "nbconvert_exporter": "python",
      "pygments_lexer": "ipython3",
      "version": "3.6.8"
    },
    "colab": {
      "name": "Copy of clustering.ipynb",
      "provenance": []
    }
  },
  "cells": [
    {
      "cell_type": "markdown",
      "metadata": {
        "deletable": true,
        "editable": true,
        "id": "E5eaVHDrR8ut"
      },
      "source": [
        "Каждый пункт, который предлагается выполнить в рамках домашнего задания, имеет объявленную \"цену\" в баллах. Максимально возможная сумма – 10 баллов, а с учётом бонусных пунктов – 12 баллов. Выполнять все пункты не обязательно, можно сделать только часть. В большинстве пунктов ожидается, что вы напишете работающий код на Python; иногда надо будет писать комментарии в свободной форме – например, сравнивать несколько подходов к решению одной задачи. Там, где оставлены пустые клетки под ваши ответы, вы можете по своему усмотрению добавлять ещё клетки.\n",
        "\n",
        "* * *\n",
        "\n",
        "Эта лабораторная работа посвящена кластеризации. Мы будем работать с рукописными изображениями цифр, научимся их кластеризовать двумя разными методами (иерархическая кластеризация и алгоритм $K$-means), оценивать качество разбиения и выбирать оптимальное число кластеров, а также визуализировать промежуточные результаты.\n",
        "\n",
        "# 1. Получение данных\n",
        "\n",
        "Данные, с которыми мы будем работать, доступны в библиотеке scikit-learn (модуль называется `sklearn`) в подмодуле `datasets` через функцию, которая называется `load_digits`. Всего имеется 1797 наблюдений, каждое из них представляет чёрно-белую картинку 8 $\\times$ 8 пикселей. Эти картинки – распознанные рукописные цифры от 0 до 9. Образцов написания каждой цифры дано приблизительно поровну, около 180.\n",
        "\n",
        "Для удобства использования данных каждая картинка \"развёрнута\" в строку, так что NumPy-массив, в котором хранятся данные, имеет размерность 2 и величину 1797 $\\times$ 64 (а не, например, размерность 3 и величину 1797 $\\times$ 8 $\\times$ 8). Интенсивность цвета в каждом пикселе кодируется целым числом от 0 до 16.\n",
        "\n",
        "Кроме наблюдений (картинок), известны соответствующие им значения целевой переменной: какую цифру на самом деле изображает каждая картинка. Мы могли бы сразу сформулировать задачу обучения с учителем и предсказывать цифры по картинкам, но для целей этой лабораторной работы мы будем действовать по-другому: сделаем вид, что нам не известны истинные метки классов (т. е. цифры) и даже количество классов, и попробуем сгруппировать данные таким образом, чтобы качество кластеризации оказалось наилучшим, а затем посмотрим, насколько точно полученные кластеры совпадают с группами изображений одинаковых цифр.\n",
        "\n",
        "**(0.5 балла)** Загрузите данные. Добейтесь, чтобы в переменной `X` оказался массив наблюдений, содержащий 1797 $\\times$ 64 числа, а в переменной `y` – массив истинных меток классов, содержащий 1797 чисел.\n",
        "\n",
        "*Указания:*\n",
        "- Как загрузить данные, объяснено в справке к функции `load_digits`.\n",
        "- Размер массива хранится в атрибуте `shape`."
      ]
    },
    {
      "cell_type": "code",
      "metadata": {
        "collapsed": true,
        "deletable": true,
        "editable": true,
        "id": "20TE9CslR8u4",
        "colab": {
          "base_uri": "https://localhost:8080/"
        },
        "outputId": "a78e7341-2653-4c07-f039-ba45cc26d075"
      },
      "source": [
        "from sklearn.datasets import load_digits\r\n",
        "digits = load_digits()\r\n",
        "print(digits.data.shape)\r\n",
        "print(digits)"
      ],
      "execution_count": 13,
      "outputs": [
        {
          "output_type": "stream",
          "text": [
            "(1797, 64)\n",
            "{'data': array([[ 0.,  0.,  5., ...,  0.,  0.,  0.],\n",
            "       [ 0.,  0.,  0., ..., 10.,  0.,  0.],\n",
            "       [ 0.,  0.,  0., ..., 16.,  9.,  0.],\n",
            "       ...,\n",
            "       [ 0.,  0.,  1., ...,  6.,  0.,  0.],\n",
            "       [ 0.,  0.,  2., ..., 12.,  0.,  0.],\n",
            "       [ 0.,  0., 10., ..., 12.,  1.,  0.]]), 'target': array([0, 1, 2, ..., 8, 9, 8]), 'target_names': array([0, 1, 2, 3, 4, 5, 6, 7, 8, 9]), 'images': array([[[ 0.,  0.,  5., ...,  1.,  0.,  0.],\n",
            "        [ 0.,  0., 13., ..., 15.,  5.,  0.],\n",
            "        [ 0.,  3., 15., ..., 11.,  8.,  0.],\n",
            "        ...,\n",
            "        [ 0.,  4., 11., ..., 12.,  7.,  0.],\n",
            "        [ 0.,  2., 14., ..., 12.,  0.,  0.],\n",
            "        [ 0.,  0.,  6., ...,  0.,  0.,  0.]],\n",
            "\n",
            "       [[ 0.,  0.,  0., ...,  5.,  0.,  0.],\n",
            "        [ 0.,  0.,  0., ...,  9.,  0.,  0.],\n",
            "        [ 0.,  0.,  3., ...,  6.,  0.,  0.],\n",
            "        ...,\n",
            "        [ 0.,  0.,  1., ...,  6.,  0.,  0.],\n",
            "        [ 0.,  0.,  1., ...,  6.,  0.,  0.],\n",
            "        [ 0.,  0.,  0., ..., 10.,  0.,  0.]],\n",
            "\n",
            "       [[ 0.,  0.,  0., ..., 12.,  0.,  0.],\n",
            "        [ 0.,  0.,  3., ..., 14.,  0.,  0.],\n",
            "        [ 0.,  0.,  8., ..., 16.,  0.,  0.],\n",
            "        ...,\n",
            "        [ 0.,  9., 16., ...,  0.,  0.,  0.],\n",
            "        [ 0.,  3., 13., ..., 11.,  5.,  0.],\n",
            "        [ 0.,  0.,  0., ..., 16.,  9.,  0.]],\n",
            "\n",
            "       ...,\n",
            "\n",
            "       [[ 0.,  0.,  1., ...,  1.,  0.,  0.],\n",
            "        [ 0.,  0., 13., ...,  2.,  1.,  0.],\n",
            "        [ 0.,  0., 16., ..., 16.,  5.,  0.],\n",
            "        ...,\n",
            "        [ 0.,  0., 16., ..., 15.,  0.,  0.],\n",
            "        [ 0.,  0., 15., ..., 16.,  0.,  0.],\n",
            "        [ 0.,  0.,  2., ...,  6.,  0.,  0.]],\n",
            "\n",
            "       [[ 0.,  0.,  2., ...,  0.,  0.,  0.],\n",
            "        [ 0.,  0., 14., ..., 15.,  1.,  0.],\n",
            "        [ 0.,  4., 16., ..., 16.,  7.,  0.],\n",
            "        ...,\n",
            "        [ 0.,  0.,  0., ..., 16.,  2.,  0.],\n",
            "        [ 0.,  0.,  4., ..., 16.,  2.,  0.],\n",
            "        [ 0.,  0.,  5., ..., 12.,  0.,  0.]],\n",
            "\n",
            "       [[ 0.,  0., 10., ...,  1.,  0.,  0.],\n",
            "        [ 0.,  2., 16., ...,  1.,  0.,  0.],\n",
            "        [ 0.,  0., 15., ..., 15.,  0.,  0.],\n",
            "        ...,\n",
            "        [ 0.,  4., 16., ..., 16.,  6.,  0.],\n",
            "        [ 0.,  8., 16., ..., 16.,  8.,  0.],\n",
            "        [ 0.,  1.,  8., ..., 12.,  1.,  0.]]]), 'DESCR': \".. _digits_dataset:\\n\\nOptical recognition of handwritten digits dataset\\n--------------------------------------------------\\n\\n**Data Set Characteristics:**\\n\\n    :Number of Instances: 5620\\n    :Number of Attributes: 64\\n    :Attribute Information: 8x8 image of integer pixels in the range 0..16.\\n    :Missing Attribute Values: None\\n    :Creator: E. Alpaydin (alpaydin '@' boun.edu.tr)\\n    :Date: July; 1998\\n\\nThis is a copy of the test set of the UCI ML hand-written digits datasets\\nhttps://archive.ics.uci.edu/ml/datasets/Optical+Recognition+of+Handwritten+Digits\\n\\nThe data set contains images of hand-written digits: 10 classes where\\neach class refers to a digit.\\n\\nPreprocessing programs made available by NIST were used to extract\\nnormalized bitmaps of handwritten digits from a preprinted form. From a\\ntotal of 43 people, 30 contributed to the training set and different 13\\nto the test set. 32x32 bitmaps are divided into nonoverlapping blocks of\\n4x4 and the number of on pixels are counted in each block. This generates\\nan input matrix of 8x8 where each element is an integer in the range\\n0..16. This reduces dimensionality and gives invariance to small\\ndistortions.\\n\\nFor info on NIST preprocessing routines, see M. D. Garris, J. L. Blue, G.\\nT. Candela, D. L. Dimmick, J. Geist, P. J. Grother, S. A. Janet, and C.\\nL. Wilson, NIST Form-Based Handprint Recognition System, NISTIR 5469,\\n1994.\\n\\n.. topic:: References\\n\\n  - C. Kaynak (1995) Methods of Combining Multiple Classifiers and Their\\n    Applications to Handwritten Digit Recognition, MSc Thesis, Institute of\\n    Graduate Studies in Science and Engineering, Bogazici University.\\n  - E. Alpaydin, C. Kaynak (1998) Cascading Classifiers, Kybernetika.\\n  - Ken Tang and Ponnuthurai N. Suganthan and Xi Yao and A. Kai Qin.\\n    Linear dimensionalityreduction using relevance weighted LDA. School of\\n    Electrical and Electronic Engineering Nanyang Technological University.\\n    2005.\\n  - Claudio Gentile. A New Approximate Maximal Margin Classification\\n    Algorithm. NIPS. 2000.\"}\n"
          ],
          "name": "stdout"
        }
      ]
    },
    {
      "cell_type": "markdown",
      "metadata": {
        "deletable": true,
        "editable": true,
        "id": "JG80gaQfR8u5"
      },
      "source": [
        "**(1 балл)** Визуализируйте первые десять картинок, расположив их на сетке 3 $\\times$ 4 (в последнем ряду останутся пустые места). Добейтесь, чтобы фон картинок был белым, а изображения цифр – тёмными.\n",
        "\n",
        "*Указания:*\n",
        "- Не забудьте импортировать NumPy и Matplotlib.\n",
        "- Картинки 8 $\\times$ 8 можно либо достать готовыми из объекта, загруженного функцией `load_digits`, либо сделать самостоятельно из строк массива `X`. Во втором случае пользуйтесь методом `reshape`.\n",
        "- Чтобы изображение не было цветным, можно вызвать функцию `plt.gray`, прежде чем начать рисовать.\n",
        "- Располагать картинки на сетке умеет функция `plt.subplot`. Ознакомьтесь со справкой к ней.\n",
        "- По умолчанию число 0 кодирует чёрный цвет, а число 16 – белый цвет. Подумайте, как обратить цвета одной операцией над NumPy-массивом.\n",
        "- Выводить картинку на экран умеет функция `plt.imshow`. Ознакомьтесь со справкой к ней.\n",
        "- Если считаете нужным, можете отключить сглаживание – параметр `interpolation` у функции `plt.imshow`.\n",
        "- Если считаете нужным, можете отключить деления на координатных осях. За это отвечают функции `plt.xticks` и `plt.yticks`."
      ]
    },
    {
      "cell_type": "code",
      "metadata": {
        "collapsed": true,
        "deletable": true,
        "editable": true,
        "id": "vGCLwPjPR8u5",
        "colab": {
          "base_uri": "https://localhost:8080/",
          "height": 252
        },
        "outputId": "7ec7ab59-b5e5-4bfb-dc74-ef67cd330df3"
      },
      "source": [
        "import matplotlib.pyplot as plt\r\n",
        "import numpy as np\r\n",
        "plt.gray()\r\n",
        "for k in range(1, 11):\r\n",
        "  plt.subplot(3, 4, k)\r\n",
        "  plt.xticks([])\r\n",
        "  plt.yticks([])\r\n",
        "  img = 16 - np.array(digits.images[k - 1])\r\n",
        "  plt.imshow(img,)\r\n",
        "plt.show() "
      ],
      "execution_count": 14,
      "outputs": [
        {
          "output_type": "display_data",
          "data": {
            "image/png": "[encoded data removed]",
            "text/plain": [
              "<Figure size 432x288 with 10 Axes>"
            ]
          },
          "metadata": {
            "tags": []
          }
        }
      ]
    },
    {
      "cell_type": "markdown",
      "metadata": {
        "deletable": true,
        "editable": true,
        "id": "U0xxvcisR8u5"
      },
      "source": [
        "# 2. Кластеризация и оценка качества\n",
        "\n",
        "Мы будем использовать два популярных алгоритма: иерархическую кластеризацию и метод $K$ средних ($K$-means clustering). Эти и другие алгоритмы кластеризации доступны в библиотеке scikit-learn в подмодуле `cluster`. Иерархическая кластеризация называется `AgglomerativeClustering`, а метод $K$ средних – `KMeans`.\n",
        "\n",
        "Интерфейс у большинства алгоритмов в scikit-learn простой и единообразный:\n",
        "- Чтобы инициализировать модель, нужно создать экземпляр соответствующего класса со всеми необходимыми параметрами. Например, у кластеризаций единственный обязательный параметр называется `n_clusters`, это количество кластеров, которое мы хотим получить на выходе.\n",
        "- Инициализированную модель можно обучить, вызвав метод `fit`.\n",
        "- С помощью обученной модели можно предсказывать, вызывая метод `predict`.\n",
        "\n",
        "Как видно, этот интерфейс хорош только для задач обучения с учителем, в которых чётко разделены фазы обучения модели и предсказания с её помощью. У кластеризаций зато есть метод `fit_predict`, который разбивает входную выборку на кластеры и сразу же возвращает результаты разбиения.\n",
        "\n",
        "**(0.5 балла)** Используя каждый из двух методов, иерархическую кластеризацию и $K$ средних, получите разбиение массива `X` на 10 кластеров.\n",
        "\n",
        "*Указания:*\n",
        "- Оба раза должен получиться массив из 1797 чисел – номеров кластеров.\n",
        "- `KMeans` делает несколько (по умолчанию 10) запусков со случайными центрами и из полученных разбиений выводит лучшее в терминах среднего внутрикластерного расстояния. Чтобы улучшить качество предсказаний, можно увеличить число запусков, например, до 100. Это параметр `n_init` в конструкторе."
      ]
    },
    {
      "cell_type": "code",
      "metadata": {
        "collapsed": true,
        "deletable": true,
        "editable": true,
        "id": "W_bNdTu8R8u6",
        "colab": {
          "base_uri": "https://localhost:8080/"
        },
        "outputId": "ac903b6b-f482-45cf-9c0e-d5047d2e08f0"
      },
      "source": [
        "from sklearn.cluster import AgglomerativeClustering\r\n",
        "from sklearn.cluster import KMeans\r\n",
        "clustering1 = AgglomerativeClustering(n_clusters = 10)\r\n",
        "X=load_digits()\r\n",
        "AC_clusters = clustering1.fit_predict(X.data)\r\n",
        "print(len(AC_clusters))\r\n",
        "clustering2 = KMeans(n_clusters = 10)\r\n",
        "KMeans_clusters = clustering2.fit_predict(X.data)\r\n",
        "print(len(KMeans_clusters))\r\n",
        "clustering2 = KMeans(n_clusters = 10, n_init= 100)\r\n",
        "KMeans100_clusters = clustering2.fit_predict(X.data)\r\n",
        "print(len(KMeans_clusters))\r\n"
      ],
      "execution_count": 15,
      "outputs": [
        {
          "output_type": "stream",
          "text": [
            "1797\n",
            "1797\n",
            "1797\n"
          ],
          "name": "stdout"
        }
      ]
    },
    {
      "cell_type": "markdown",
      "metadata": {
        "deletable": true,
        "editable": true,
        "id": "edqUKTzcR8u6"
      },
      "source": [
        "**(1 балл)** Визуализируйте центры кластеров, полученных каждым из двух способов. Это опять должны быть картинки на сетке 3 $\\times$ 4 с белым фоном и тёмными контурами. Прокомментируйте: какой из двух алгоритмов даёт центры кластеров, больше похожие на типичные начертания цифр?\n",
        "\n",
        "*Указания:*\n",
        "- Центр кластера – это среднее по всем наблюдениям, входящим в кластер, т. е. по какому-то набору строк из `X`.\n",
        "- Чтобы выбрать наблюдения, входящие в кластер номер `i`, используйте индексацию по булевозначной маске. Саму маску можно получить из массива предсказанных номеров кластеров и числа `i` оператором `==`.\n",
        "- Усреднять NumPy-массив вдоль какой-нибудь из осей умеет функция `np.mean`. Ознакомьтесь со справкой к ней. Нам нужно усреднение по строкам."
      ]
    },
    {
      "cell_type": "code",
      "metadata": {
        "deletable": true,
        "editable": true,
        "id": "xIQTkdP_R8u7",
        "colab": {
          "base_uri": "https://localhost:8080/",
          "height": 773
        },
        "outputId": "776ac8f2-176e-4e8e-d786-e56b914cfce1"
      },
      "source": [
        "print(\"AgglomerativeClustering\")\r\n",
        "plt.gray()\r\n",
        "for i in range(10):\r\n",
        "  mask = AC_clusters == i\r\n",
        "  digits = load_digits().images[mask]\r\n",
        "  img = np.mean(digits, axis = 0)\r\n",
        "  plt.subplot(3, 4, i + 1)\r\n",
        "  plt.xticks([])\r\n",
        "  plt.yticks([])\r\n",
        "  img = 16 - np.array(img)\r\n",
        "  plt.imshow(img,)\r\n",
        "plt.show()\r\n",
        "print(\"KMeans usual\")\r\n",
        "plt.gray()\r\n",
        "for i in range(10):\r\n",
        "  mask = KMeans_clusters == i\r\n",
        "  digits = load_digits().images[mask]\r\n",
        "  img = np.mean(digits, axis = 0)\r\n",
        "  plt.subplot(3, 4, i + 1)\r\n",
        "  plt.xticks([])\r\n",
        "  plt.yticks([])\r\n",
        "  img = 16 - np.array(img)\r\n",
        "  plt.imshow(img,)\r\n",
        "plt.show()\r\n",
        "print(\"KMeans with 100 runs\")\r\n",
        "plt.gray()\r\n",
        "for i in range(10):\r\n",
        "  mask = KMeans100_clusters == i\r\n",
        "  digits = load_digits().images[mask]\r\n",
        "  img = np.mean(digits, axis = 0)\r\n",
        "  plt.subplot(3, 4, i + 1)\r\n",
        "  plt.xticks([])\r\n",
        "  plt.yticks([])\r\n",
        "  img = 16 - np.array(img)\r\n",
        "  plt.imshow(img,)\r\n",
        "plt.show()"
      ],
      "execution_count": 16,
      "outputs": [
        {
          "output_type": "stream",
          "text": [
            "AgglomerativeClustering\n"
          ],
          "name": "stdout"
        },
        {
          "output_type": "display_data",
          "data": {
            "image/png": "[encoded data removed]",
            "text/plain": [
              "<Figure size 432x288 with 10 Axes>"
            ]
          },
          "metadata": {
            "tags": []
          }
        },
        {
          "output_type": "stream",
          "text": [
            "KMeans usual\n"
          ],
          "name": "stdout"
        },
        {
          "output_type": "display_data",
          "data": {
            "image/png": "[encoded data removed]",
            "text/plain": [
              "<Figure size 432x288 with 10 Axes>"
            ]
          },
          "metadata": {
            "tags": []
          }
        },
        {
          "output_type": "stream",
          "text": [
            "KMeans with 100 runs\n"
          ],
          "name": "stdout"
        },
        {
          "output_type": "display_data",
          "data": {
            "image/png": "[encoded data removed]",
            "text/plain": [
              "<Figure size 432x288 with 10 Axes>"
            ]
          },
          "metadata": {
            "tags": []
          }
        }
      ]
    },
    {
      "cell_type": "markdown",
      "metadata": {
        "id": "yy4E_5WYhXkP"
      },
      "source": [
        "Число запусков KMeans не особо повлияло на четкость изображения. Сказать что более лучше выглядит, не значит сказать, что ответ будет верным. Поскольку оба алгоритма показывают схожий результат. Единственное, где есть различия, первый алгоритс лучше отрабатывает на 5 и 9, а второй на 3 и 8. Однако оба алгоритма не отрабатывают на одной цифре. Первый на 3, а второй на 8."
      ]
    },
    {
      "cell_type": "markdown",
      "metadata": {
        "deletable": true,
        "editable": true,
        "id": "vcFGBQgQR8u7"
      },
      "source": [
        "В ситуации, когда истинное число кластеров неизвестно, подбирают оптимальное число кластеров. При этом учитывают две величины: внутрикластерное расстояние (чем меньше, тем лучше) и межкластерное расстояние (чем больше, тем лучше). Так как две эти величины не достигают оптимума одновременно, обычно оптимизируют какой-нибудь функционал от них. Один популярный функционал называется \"силуэт\" (silhouette). Вот как он вычисляется.\n",
        "\n",
        "Пусть $X$ – множество наблюдений, $M \\subset X$ – один из кластеров, на которые оно разбито в результате кластеризации, $\\rho$ – метрика на $X$. Выберем какое-нибудь одно наблюдение $x \\in M$. Обозначим $a(x)$ среднее расстояние от $x$ до точек $x'$ из того же кластера:\n",
        "$$\n",
        "a(x) = \\frac{1}{|M| - 1} \\sum_{x' \\in M,\\, x' \\ne x} \\rho(x,\\, x')\n",
        "$$\n",
        "\n",
        "Обозначим $b(x)$ минимум средних расстояний от $x$ до точек $x''$ из какого-нибудь другого кластера $N$:\n",
        "$$\n",
        "b(x) = \\min_{N \\ne M} \\frac{1}{|N|} \\sum_{x'' \\in N} \\rho(x,\\, x'')\n",
        "$$\n",
        "\n",
        "Силуэт – это разность межкластерного и внутрикластерного расстояний, нормированная до отрезка $[-1,\\, 1]$ и усреднённая по всем наблюдениям:\n",
        "$$\n",
        "\\frac{1}{|X|} \\sum_{x \\in X} \\frac{b(x) - a(x)}{\\max(a(x),\\, b(x))}\n",
        "$$\n",
        "\n",
        "В scikit-learn силуэт считается функцией `silhouette_score` из подмодуля `metrics`. На вход нужно передать массив наблюдений и результат кластеризации.\n",
        "\n",
        "**(1.5 балла)** Для числа $K$ от 2 до 20 включительно получите разбиение массива `X` на $K$ кластеров каждым из двух методов. Посчитайте силуэт. Посчитанные значения силуэта сохраните в переменную и визуализируйте в виде графика в координатах: число $K$ – значение силуэта. При каком числе кластеров достигается максимум силуэта?\n",
        "\n",
        "*Указания:*\n",
        "- Не забудьте, что функция `range` не захватывает правый конец диапазона.\n",
        "- Под значения силуэта можно завести два списка: один для иерархической кластеризации, другой для $K$ средних.\n",
        "- Рисовать графики умеет функция `plt.plot`. Ознакомьтесь со справкой к ней.\n",
        "- На одной картинке можно разместить несколько графиков, это просто несколько последовательных вызовов `plt.plot`.\n",
        "- Чтобы добавить легенду (подписи к графикам), можно воспользоваться функцией `plt.legend`. Местоположение легенды контролируется параметром `loc`.\n",
        "- Чтобы подписать координатные оси, можно воспользоваться функциями `plt.xlabel` и `plt.ylabel`."
      ]
    },
    {
      "cell_type": "code",
      "metadata": {
        "collapsed": true,
        "deletable": true,
        "editable": true,
        "id": "6POkitBlR8u7",
        "colab": {
          "base_uri": "https://localhost:8080/",
          "height": 313
        },
        "outputId": "d4885470-8799-4f43-f386-200d67cde9bb"
      },
      "source": [
        "from sklearn.cluster import AgglomerativeClustering\r\n",
        "from sklearn.cluster import KMeans\r\n",
        "from sklearn.metrics import silhouette_score\r\n",
        "metrics = []\r\n",
        "for k in range(2, 21):\r\n",
        "  clustering = AgglomerativeClustering(n_clusters = k)\r\n",
        "  X=load_digits()\r\n",
        "  clusters = clustering.fit_predict(X.data)\r\n",
        "  if k == 10:\r\n",
        "    base_sha_10 = silhouette_score(X.data, clusters)\r\n",
        "  metrics.append(silhouette_score(X.data, clusters))\r\n",
        "print(f\"Number of clusters with max silhoute_score {np.argmax(metrics) + 2}\")\r\n",
        "plt.plot(range(2, 21), metrics)\r\n",
        "\r\n",
        "metrics = []\r\n",
        "for k in range(2, 21):\r\n",
        "  clustering = KMeans(n_clusters = k)\r\n",
        "  X=load_digits()\r\n",
        "  clusters = clustering.fit_predict(X.data)\r\n",
        "  if k == 10:\r\n",
        "    base_shk_10 = silhouette_score(X.data, clusters)\r\n",
        "  metrics.append(silhouette_score(X.data, clusters))\r\n",
        "print(f\"Number of clusters with max silhoute_score {np.argmax(metrics) + 2}\")\r\n",
        "plt.plot(range(2, 21), metrics)\r\n",
        "plt.legend([\"AgglomerativeClustering\", \"KMeans\"])\r\n",
        "plt.xlabel('Number of clusters')\r\n",
        "plt.ylabel('silhouette_score')\r\n",
        "plt.show()\r\n",
        "  \r\n"
      ],
      "execution_count": 17,
      "outputs": [
        {
          "output_type": "stream",
          "text": [
            "Number of clusters with max silhoute_score 9\n",
            "Number of clusters with max silhoute_score 15\n"
          ],
          "name": "stdout"
        },
        {
          "output_type": "display_data",
          "data": {
            "image/png": "[encoded data removed]",
            "text/plain": [
              "<Figure size 432x288 with 1 Axes>"
            ]
          },
          "metadata": {
            "tags": [],
            "needs_background": "light"
          }
        }
      ]
    },
    {
      "cell_type": "markdown",
      "metadata": {
        "id": "hCq4wkBlmXOe"
      },
      "source": [
        "При 9-ти кластерах достигается наивысшее значение силуэта"
      ]
    },
    {
      "cell_type": "markdown",
      "metadata": {
        "deletable": true,
        "editable": true,
        "id": "Th2uLZEqR8u8"
      },
      "source": [
        "Когда известно \"правильное\" (в каком-нибудь смысле) разбиение на кластеры, результат кластеризации можно сравнить с ним, используя такие меры, как однородность (homogeneity), полнота (completeness) и их среднее гармоническое – $V$-мера. Определения этих величин довольно громоздкие и основаны на понятии [энтропии распределения вероятностей](https://ru.wikipedia.org/wiki/Информационная_энтропия); подробности излагаются в [этой статье](http://aclweb.org/anthology/D/D07/D07-1043.pdf). На практике достаточно знать, что однородность, полнота и $V$-мера заключены между нулём и единицей – чем больше, тем лучше.\n",
        "\n",
        "Так как мы знаем, какую цифру на самом деле изображает каждая картинка (это массив `y`), мы можем использовать однородность, полноту и $V$-меру для оценки качества кластеризации. Функции для вычисления этих величин доступны в scikit-learn, в подмодуле `metrics`, под названиями `homogeneity_score`, `completeness_score`, `v_measure_score`. Как вариант, можно использовать функцию `homogeneity_completeness_v_measure`, которая возвращает сразу тройку чисел.\n",
        "\n",
        "**(1 балл)** Повторите предыдущее задание, используя $V$-меру вместо силуэта. При каком числе кластеров достигается максимум $V$-меры?"
      ]
    },
    {
      "cell_type": "code",
      "metadata": {
        "collapsed": true,
        "deletable": true,
        "editable": true,
        "id": "Cp7z2Zo2R8u9",
        "colab": {
          "base_uri": "https://localhost:8080/",
          "height": 313
        },
        "outputId": "636d3757-71cd-4234-b1a7-84c61fd76c85"
      },
      "source": [
        "from sklearn.cluster import AgglomerativeClustering\r\n",
        "from sklearn.cluster import KMeans\r\n",
        "from sklearn.metrics import homogeneity_completeness_v_measure\r\n",
        "metrics = []\r\n",
        "for k in range(2, 21):\r\n",
        "  clustering = AgglomerativeClustering(n_clusters = k)\r\n",
        "  X=load_digits()\r\n",
        "  clusters = clustering.fit_predict(X.data)\r\n",
        "  h, c, v = homogeneity_completeness_v_measure(X.target, clusters)\r\n",
        "  if k == 10:\r\n",
        "    base_va_10 = v\r\n",
        "  metrics.append(v)\r\n",
        "print(f\"Number of clusters with max v_measure_score {np.argmax(metrics) + 2}\")\r\n",
        "plt.plot(range(2, 21), metrics)\r\n",
        "\r\n",
        "metrics = []\r\n",
        "for k in range(2, 21):\r\n",
        "  clustering = KMeans(n_clusters = k)\r\n",
        "  X=load_digits()\r\n",
        "  clusters = clustering.fit_predict(X.data)\r\n",
        "  h, c, v = homogeneity_completeness_v_measure(X.target, clusters)\r\n",
        "  if k == 10:\r\n",
        "    base_vk_10 = v\r\n",
        "  metrics.append(v)\r\n",
        "print(f\"Number of clusters with max v_measure_score {np.argmax(metrics) + 2}\")\r\n",
        "plt.plot(range(2, 21), metrics)\r\n",
        "plt.legend([\"AgglomerativeClustering\", \"KMeans\"])\r\n",
        "plt.xlabel('Number of clusters')\r\n",
        "plt.ylabel('v_measure_score')\r\n",
        "plt.show()"
      ],
      "execution_count": 18,
      "outputs": [
        {
          "output_type": "stream",
          "text": [
            "Number of clusters with max v_measure_score 12\n",
            "Number of clusters with max v_measure_score 17\n"
          ],
          "name": "stdout"
        },
        {
          "output_type": "display_data",
          "data": {
            "image/png": "[encoded data removed]",
            "text/plain": [
              "<Figure size 432x288 with 1 Axes>"
            ]
          },
          "metadata": {
            "tags": [],
            "needs_background": "light"
          }
        }
      ]
    },
    {
      "cell_type": "markdown",
      "metadata": {
        "deletable": true,
        "editable": true,
        "id": "k7ADpEuhR8u-"
      },
      "source": [
        "# 3. Снижение размерности признакового пространства\n",
        "\n",
        "Иногда, особенно когда признаков много и не все они одинаково информативные, бывает полезно снизить размерность признакового пространства, то есть вместо $d$ исходных признаков перейти к рассмотрению $d' \\ll d$ новых признаков. Данные были представлены матрицей $n$ наблюдений $\\times$ $d$ исходных признаков, а теперь будут представлены матрицей $n$ наблюдений $\\times$ $d'$ новых признаков.\n",
        "\n",
        "Есть два популярных подхода к снижению размерности:\n",
        "- отобрать (select) новые признаки из числа имеющихся;\n",
        "- извлечь (extract) новые признаки, преобразуя старые, например, сделать $d'$ различных линейных комбинаций столбцов исходной матрицы $n \\times d$.\n",
        "\n",
        "Одним из широко используемых методов извлечения признаков является сингулярное разложение матрицы (singular value decomposition, SVD). Этот метод позволяет сконструировать любое число $d' \\le d$ новых признаков таким образом, что они будут, в определённом смысле, максимально информативными. Математические детали сейчас не важны; познакомиться с ними можно, например, [здесь](https://www.coursera.org/learn/mathematics-and-python/lecture/L9bCV/razlozhieniia-matrits-v-proizviedieniie-singhuliarnoie-razlozhieniie)\n",
        "(по-русски) или [здесь](https://www.youtube.com/watch?v=P5mlg91as1c) (по-английски).\n",
        "\n",
        "В scikit-learn есть несколько реализаций сингулярного разложения. Мы будем использовать класс `TruncatedSVD` из подмодуля `decomposition`. В конструктор этого класса достаточно передать один параметр `n_components` – желаемое число новых признаков. Метод `fit_transform` принимает матрицу и возвращает новую матрицу с таким же количеством строк, как прежде, и количеством столбцов, равным числу новых признаков.\n",
        "\n",
        "<u>Замечание:</u> Сингулярное разложение матрицы $M$ обычно пишут в виде $M = U \\Sigma V^{*}$, где $U$, $\\Sigma$ и $V$ – некие матрицы с хорошими свойствами. То, что возвращает алгоритм `TruncatedSVD`, – это сколько-то (сколько мы хотим получить) первых столбцов матрицы $U$.\n",
        "\n",
        "**(1.5 балла)** Выполните сингулярное разложение матрицы `X`, оставляя 2, 5, 10, 20 признаков. В каждом случае выполните иерархическую и $K$-means кластеризацию преобразованных данных (число кластеров примите равным 10). Посчитайте значения силуэта и $V$-меры. Удалось ли при каком-нибудь $d'$ получить силуэт и / или $V$-меру лучше, чем на исходных данных?"
      ]
    },
    {
      "cell_type": "code",
      "metadata": {
        "collapsed": true,
        "deletable": true,
        "editable": true,
        "id": "tAMDz6s3R8u_",
        "colab": {
          "base_uri": "https://localhost:8080/"
        },
        "outputId": "0bb3456c-cd59-4c68-f402-ae00b88ce18a"
      },
      "source": [
        "from sklearn.decomposition import TruncatedSVD\r\n",
        "x = [2, 5, 10, 20]\r\n",
        "for i in x:\r\n",
        "  svd = TruncatedSVD(n_components=i, random_state=42)\r\n",
        "  X = load_digits()\r\n",
        "  X = svd.fit_transform(X.data)\r\n",
        "  clustering = AgglomerativeClustering(n_clusters = 10)\r\n",
        "  clusters = clustering.fit_predict(X)\r\n",
        "  ss = silhouette_score(X, clusters)\r\n",
        "  print(f\"Agglomerative Clustering. Sillhouette score with {i} features are {ss}. Is better than original? {ss >= base_sha_10}\")\r\n",
        "  h, c, v = homogeneity_completeness_v_measure(load_digits().target, clusters)\r\n",
        "  print(f\"Agglomerative Clustering. V score with {i} features are {v}. Is better than original? {v >= base_va_10}\")\r\n",
        "  clustering = KMeans(n_clusters = 10)\r\n",
        "  clusters = clustering.fit_predict(X)\r\n",
        "  ss = silhouette_score(X, clusters)\r\n",
        "  print(f\"KMeans. Sillhouette score with {i} features are {ss}. Is better than original? {ss >= base_shk_10}\")\r\n",
        "  h, c, v = homogeneity_completeness_v_measure(load_digits().target, clusters)\r\n",
        "  print(f\"KMeans. V score with {i} features are {v}. Is better than original? {v >= base_vk_10}\")\r\n",
        "\r\n",
        "  "
      ],
      "execution_count": 19,
      "outputs": [
        {
          "output_type": "stream",
          "text": [
            "Agglomerative Clustering. Sillhouette score with 2 features are 0.28081705174878147. Is better than original? True\n",
            "Agglomerative Clustering. V score with 2 features are 0.3337189903948925. Is better than original? False\n",
            "KMeans. Sillhouette score with 2 features are 0.34920936039130773. Is better than original? True\n",
            "KMeans. V score with 2 features are 0.35409439887472394. Is better than original? False\n",
            "Agglomerative Clustering. Sillhouette score with 5 features are 0.2727414056447626. Is better than original? True\n",
            "Agglomerative Clustering. V score with 5 features are 0.6756036446423491. Is better than original? False\n",
            "KMeans. Sillhouette score with 5 features are 0.312211920536981. Is better than original? True\n",
            "KMeans. V score with 5 features are 0.6339501016986268. Is better than original? False\n",
            "Agglomerative Clustering. Sillhouette score with 10 features are 0.2507088850960124. Is better than original? True\n",
            "Agglomerative Clustering. V score with 10 features are 0.8259753348813222. Is better than original? False\n",
            "KMeans. Sillhouette score with 10 features are 0.26336945597734585. Is better than original? True\n",
            "KMeans. V score with 10 features are 0.7221114804623462. Is better than original? False\n",
            "Agglomerative Clustering. Sillhouette score with 20 features are 0.19713225855053998. Is better than original? True\n",
            "Agglomerative Clustering. V score with 20 features are 0.8143882689038883. Is better than original? False\n",
            "KMeans. Sillhouette score with 20 features are 0.21282481904063563. Is better than original? True\n",
            "KMeans. V score with 20 features are 0.7449862783281539. Is better than original? True\n"
          ],
          "name": "stdout"
        }
      ]
    },
    {
      "cell_type": "markdown",
      "metadata": {
        "id": "pf8U86osspOW"
      },
      "source": [
        "Как видим, при любом значении признаков, значение силуэта выше(наибольшее при двух), лучше оригинала, а V-score нет. Наблюдается тенденция. С ростом числа признаков растет значение силуэта и падает значение V-score."
      ]
    },
    {
      "cell_type": "markdown",
      "metadata": {
        "deletable": true,
        "editable": true,
        "id": "4k3WM5OgR8vA"
      },
      "source": [
        "Другая популярная техника снижения размерности, которая особенно хорошо подходит для работы с картинками, – это алгоритм t-distributed stochastic neighbor embeddings, сокращённо tSNE. В отличие от сингулярного разложения, это преобразование нелинейное. Его основная идея – отобразить точки из пространства размерности $d$ в пространство размерности 2 или 3 (обычно 2, то есть на плоскость) таким образом, чтобы как можно точнее сохранить расстояния. Математические детали есть, например, [здесь](https://en.wikipedia.org/wiki/T-distributed_stochastic_neighbor_embedding), но они нетривиальны.\n",
        "\n",
        "В библиотеке scikit-learn реализацией tSNE является класс `TSNE` в подмодуле `manifold`. В конструктор можно передать параметр `n_components`, а можно и не передавать: по умолчанию он равен 2. Метод `fit_transform` работает аналогично тому, как и у `TruncatedSVD`.\n",
        "\n",
        "<u>Замечание:</u> В последние годы вместо tSNE на практике часто используется [UMAP](https://github.com/lmcinnes/umap), более быстрый алгоритм с похожими свойствами. В этой лабораторной работе не предлагается использовать UMAP, так как это потребовало бы установить ещё одну зависимость -- библиотеку `umap-learn`. Желающие могут проделать задания на tSNE с использованием UMAP; в этом случае обратите внимание на параметры `n_neighbors` и `min_dist`, которыми определяется вид проекции.\n",
        "\n",
        "**(0.5 балла)** Выполните tSNE-преобразование матрицы `X`, оставив 2 признака. Визуализируйте данные, преобразованные таким образом, в виде точечной диаграммы: первый признак вдоль горизонтальной оси, второй признак вдоль вертикальной оси. Подсветите разными цветами группы точек, соответствующих разным цифрам.\n",
        "\n",
        "*Указания:*\n",
        "- Точечную диаграмму умеет рисовать функция `plt.scatter`. Ознакомьтесь со справкой к ней.\n",
        "- За цвета точек отвечает параметр `c` у функции `plt.scatter`. Передать в него надо истинные метки классов."
      ]
    },
    {
      "cell_type": "code",
      "metadata": {
        "collapsed": true,
        "deletable": true,
        "editable": true,
        "id": "BCnYEhNqR8vA"
      },
      "source": [
        "from sklearn.manifold import TSNE\r\n",
        "X = load_digits().data\r\n",
        "X = TSNE(n_components=2).fit_transform(X)\r\n"
      ],
      "execution_count": 20,
      "outputs": []
    },
    {
      "cell_type": "code",
      "metadata": {
        "colab": {
          "base_uri": "https://localhost:8080/",
          "height": 519
        },
        "id": "YuazSk2euWyq",
        "outputId": "eb4e062b-d87f-40bd-9aec-e2778afad687"
      },
      "source": [
        "plt.scatter(X[:, 0], X[:, 1])\r\n",
        "plt.show()\r\n",
        "plt.scatter(X[:, 0], X[:, 1], c = load_digits().target)\r\n",
        "plt.show()"
      ],
      "execution_count": 21,
      "outputs": [
        {
          "output_type": "display_data",
          "data": {
            "image/png": "[encoded data removed]",
            "text/plain": [
              "<Figure size 432x288 with 1 Axes>"
            ]
          },
          "metadata": {
            "tags": [],
            "needs_background": "light"
          }
        },
        {
          "output_type": "display_data",
          "data": {
            "image/png": "[encoded data removed]",
            "text/plain": [
              "<Figure size 432x288 with 1 Axes>"
            ]
          },
          "metadata": {
            "tags": [],
            "needs_background": "light"
          }
        }
      ]
    },
    {
      "cell_type": "markdown",
      "metadata": {
        "deletable": true,
        "editable": true,
        "id": "lMDU4d-JR8vB"
      },
      "source": [
        "**(1 балл)** Для tSNE-преобразованных данных с 2 признаками выполните иерархическую и $K$-means кластеризацию (число кластеров примите равным 10). Посчитайте значения силуэта и $V$-меры. Удалось ли получить силуэт и / или $V$-меру лучше, чем на исходных данных?"
      ]
    },
    {
      "cell_type": "code",
      "metadata": {
        "collapsed": true,
        "deletable": true,
        "editable": true,
        "id": "r63-2HIBR8vB",
        "colab": {
          "base_uri": "https://localhost:8080/"
        },
        "outputId": "c4764a1f-684d-4edb-c299-0a264f36b029"
      },
      "source": [
        "clustering = AgglomerativeClustering(n_clusters = 10)\r\n",
        "clusters1 = clustering.fit_predict(X)\r\n",
        "ss = silhouette_score(X, clusters1)\r\n",
        "print(f\"Agglomerative Clustering. Sillhouette score  are {ss}. Is better than original? {ss >= base_sha_10}\")\r\n",
        "h, c, v = homogeneity_completeness_v_measure(load_digits().target, clusters1)\r\n",
        "print(f\"Agglomerative Clustering. V score are {v}. Is better than original? {v >= base_va_10}\")\r\n",
        "clustering = KMeans(n_clusters = 10)\r\n",
        "clusters = clustering.fit_predict(X)\r\n",
        "ss = silhouette_score(X, clusters)\r\n",
        "print(f\"KMeans. Sillhouette score with {i}  are {ss}. Is better than original? {ss >= base_shk_10}\")\r\n",
        "h, c, v = homogeneity_completeness_v_measure(load_digits().target, clusters)\r\n",
        "print(f\"KMeans. V score with {i}  are {v}. Is better than original? {v >= base_vk_10}\")"
      ],
      "execution_count": 22,
      "outputs": [
        {
          "output_type": "stream",
          "text": [
            "Agglomerative Clustering. Sillhouette score  are 0.6368826031684875. Is better than original? True\n",
            "Agglomerative Clustering. V score are 0.9102527800030366. Is better than original? True\n",
            "KMeans. Sillhouette score with 20  are 0.6377567052841187. Is better than original? True\n",
            "KMeans. V score with 20  are 0.9047962874037279. Is better than original? True\n"
          ],
          "name": "stdout"
        }
      ]
    },
    {
      "cell_type": "markdown",
      "metadata": {
        "deletable": true,
        "editable": true,
        "id": "OpvH1uW2R8vB"
      },
      "source": [
        "**(0.5 балла)** Для самого лучшего разбиения, которое вам удалось получить (на ваше усмотрение, лучшего в терминах силуэта или $V$-меры), опять визуализируйте картинками центры кластеров. Удалось ли добиться, чтобы каждый кластер соответствовал какой-нибудь одной цифре?"
      ]
    },
    {
      "cell_type": "code",
      "metadata": {
        "collapsed": true,
        "deletable": true,
        "editable": true,
        "id": "kj0wGrA7R8vB",
        "colab": {
          "base_uri": "https://localhost:8080/",
          "height": 252
        },
        "outputId": "9a9deb14-f44d-4462-8e4a-8ef8ff70dbf1"
      },
      "source": [
        "plt.gray()\r\n",
        "for i in range(10):\r\n",
        "  mask = clusters1 == i\r\n",
        "  digits = load_digits().images[mask]\r\n",
        "  img = np.mean(digits, axis = 0)\r\n",
        "  plt.subplot(3, 4, i + 1)\r\n",
        "  plt.xticks([])\r\n",
        "  plt.yticks([])\r\n",
        "  img = 16 - np.array(img)\r\n",
        "  plt.imshow(img,)\r\n",
        "plt.show()"
      ],
      "execution_count": 23,
      "outputs": [
        {
          "output_type": "display_data",
          "data": {
            "image/png": "[encoded data removed]",
            "text/plain": [
              "<Figure size 432x288 with 10 Axes>"
            ]
          },
          "metadata": {
            "tags": []
          }
        }
      ]
    },
    {
      "cell_type": "markdown",
      "metadata": {
        "id": "Ee7fhGt_CWhj"
      },
      "source": [
        "Удалось добиться, чтобы каждый кластер соответствовал какой-нибудь одной цифре."
      ]
    },
    {
      "cell_type": "markdown",
      "metadata": {
        "deletable": true,
        "editable": true,
        "id": "nbCiixk5R8vC"
      },
      "source": [
        "# 4. Итоги, бонус\n",
        "\n",
        "**(1 балл)** Напишите в свободной форме, какие выводы вы сделали из выполненной работы. Ответьте, как минимум, на следующие два вопроса:\n",
        "- Какой из двух методов даёт более осмысленные кластеры – иерархическая кластеризация или алгоритм $K$ средних? Зависит ли это от настроек каждого алгоритма? От критериев оценивания качества?\n",
        "- Удаётся ли улучшить качество кластеризации, снижая размерность признакового пространства?"
      ]
    },
    {
      "cell_type": "code",
      "metadata": {
        "collapsed": true,
        "deletable": true,
        "editable": true,
        "id": "PqdJamySR8vC"
      },
      "source": [
        ""
      ],
      "execution_count": 23,
      "outputs": []
    },
    {
      "cell_type": "markdown",
      "metadata": {
        "id": "Su8kCZXxFPCW"
      },
      "source": [
        "Нельзя сказать какой из двух алгоритмов дает более осмысленные кластеры. На каждом этапе, разницы в алгоритмах не была, в отличии от настроек. \r\n"
      ]
    },
    {
      "cell_type": "code",
      "metadata": {
        "colab": {
          "base_uri": "https://localhost:8080/",
          "height": 252
        },
        "id": "4VR84z_KEumh",
        "outputId": "38613b92-a3f1-4968-8343-7a99fc62ef9d"
      },
      "source": [
        "svd = TruncatedSVD(n_components=2, random_state=42)\r\n",
        "X = load_digits()\r\n",
        "X = svd.fit_transform(X.data)\r\n",
        "clustering = AgglomerativeClustering(n_clusters = 10)\r\n",
        "clusters = clustering.fit_predict(X)\r\n",
        "plt.gray()\r\n",
        "for i in range(10):\r\n",
        "  mask = clusters == i\r\n",
        "  digits = load_digits().images[mask]\r\n",
        "  img = np.mean(digits, axis = 0)\r\n",
        "  plt.subplot(3, 4, i + 1)\r\n",
        "  plt.xticks([])\r\n",
        "  plt.yticks([])\r\n",
        "  img = 16 - np.array(img)\r\n",
        "  plt.imshow(img,)\r\n",
        "plt.show()"
      ],
      "execution_count": 24,
      "outputs": [
        {
          "output_type": "display_data",
          "data": {
            "image/png": "[encoded data removed]",
            "text/plain": [
              "<Figure size 432x288 with 10 Axes>"
            ]
          },
          "metadata": {
            "tags": []
          }
        }
      ]
    },
    {
      "cell_type": "code",
      "metadata": {
        "colab": {
          "base_uri": "https://localhost:8080/",
          "height": 252
        },
        "id": "4YSHhBW9FB0a",
        "outputId": "bcf94ea6-ecad-4f28-de9f-6b80eeaaa145"
      },
      "source": [
        "svd = TruncatedSVD(n_components=20, random_state=42)\r\n",
        "X = load_digits()\r\n",
        "X = svd.fit_transform(X.data)\r\n",
        "clustering = AgglomerativeClustering(n_clusters = 10)\r\n",
        "clusters = clustering.fit_predict(X)\r\n",
        "plt.gray()\r\n",
        "for i in range(10):\r\n",
        "  mask = clusters == i\r\n",
        "  digits = load_digits().images[mask]\r\n",
        "  img = np.mean(digits, axis = 0)\r\n",
        "  plt.subplot(3, 4, i + 1)\r\n",
        "  plt.xticks([])\r\n",
        "  plt.yticks([])\r\n",
        "  img = 16 - np.array(img)\r\n",
        "  plt.imshow(img,)\r\n",
        "plt.show()"
      ],
      "execution_count": 25,
      "outputs": [
        {
          "output_type": "display_data",
          "data": {
            "image/png": "[encoded data removed]",
            "text/plain": [
              "<Figure size 432x288 with 10 Axes>"
            ]
          },
          "metadata": {
            "tags": []
          }
        }
      ]
    },
    {
      "cell_type": "markdown",
      "metadata": {
        "id": "haPHewlbFROy"
      },
      "source": [
        "Сейчас продемонстрировали SVD, оно явно не лучше, чем tSNE. Чем больше количество параметров для svd, тем отчетливее изображение, и как видно с ростом параметров росло V-score. А в tSNE V-score было наибольшим. Можно сделать вывод, что V-мера, ведет к улучшению отчетливости изображения. А на неё будут влиять настройки алгоритма, а не сам алгоритм. Снижение признакового пространства не очень хорошо сказывалось на отчетливости изображения, как SVD. Однако TSNE дало наилучший результат. "
      ]
    },
    {
      "cell_type": "code",
      "metadata": {
        "colab": {
          "base_uri": "https://localhost:8080/",
          "height": 252
        },
        "id": "HV_Sw_p7HIy5",
        "outputId": "ce274e4d-23dd-4671-a355-13b2361ed666"
      },
      "source": [
        "from sklearn.manifold import TSNE\r\n",
        "X = load_digits().data\r\n",
        "X = TSNE(n_components=3).fit_transform(X)\r\n",
        "clustering = AgglomerativeClustering(n_clusters = 10)\r\n",
        "clusters = clustering.fit_predict(X)\r\n",
        "plt.gray()\r\n",
        "for i in range(10):\r\n",
        "  mask = clusters == i\r\n",
        "  digits = load_digits().images[mask]\r\n",
        "  img = np.mean(digits, axis = 0)\r\n",
        "  plt.subplot(3, 4, i + 1)\r\n",
        "  plt.xticks([])\r\n",
        "  plt.yticks([])\r\n",
        "  img = 16 - np.array(img)\r\n",
        "  plt.imshow(img,)\r\n",
        "plt.show()"
      ],
      "execution_count": 26,
      "outputs": [
        {
          "output_type": "display_data",
          "data": {
            "image/png": "[encoded data removed]",
            "text/plain": [
              "<Figure size 432x288 with 10 Axes>"
            ]
          },
          "metadata": {
            "tags": []
          }
        }
      ]
    },
    {
      "cell_type": "markdown",
      "metadata": {
        "deletable": true,
        "editable": true,
        "id": "8ZT9AetNR8vC"
      },
      "source": [
        "**(Бонусные 2 балла)** Скачайте датасет [MNIST Handwritten Digits](http://yann.lecun.com/exdb/mnist). Как сделать это с помощью scikit-learn, написано [здесь](https://stackoverflow.com/a/60450028). MNIST Handwritten Digits – это 70 тысяч распознанных рукописных изображений цифр, каждое размером 28 $\\times$ 28 пикселей. Попробуйте прокластеризовать этот датасет и добиться как можно лучших значений силуэта и $V$-меры."
      ]
    },
    {
      "cell_type": "markdown",
      "metadata": {
        "id": "vwubBp9qSLIp"
      },
      "source": [
        "Usual dataset"
      ]
    },
    {
      "cell_type": "code",
      "metadata": {
        "colab": {
          "base_uri": "https://localhost:8080/"
        },
        "id": "d7rO4S89O6sJ",
        "outputId": "812a323b-aab8-4759-f94b-24e9828eacf3"
      },
      "source": [
        "X, y = fetch_openml('mnist_784', version=1, return_X_y=True)\r\n",
        "\r\n",
        "clustering = KMeans(n_clusters = 10)\r\n",
        "clusters = clustering.fit_predict(X)\r\n",
        "ss = silhouette_score(X, clusters)\r\n",
        "h, c, v = homogeneity_completeness_v_measure(y, clusters)\r\n",
        "print(ss, v)\r\n"
      ],
      "execution_count": 32,
      "outputs": [
        {
          "output_type": "stream",
          "text": [
            "0.056015262215915226 0.4845921588720407\n"
          ],
          "name": "stdout"
        }
      ]
    },
    {
      "cell_type": "markdown",
      "metadata": {
        "id": "jERXXQ3ISl7A"
      },
      "source": [
        "Best attempt"
      ]
    },
    {
      "cell_type": "code",
      "metadata": {
        "colab": {
          "base_uri": "https://localhost:8080/"
        },
        "id": "KEaunDclSZFn",
        "outputId": "10d2bdae-e6d7-4c34-9dbb-9ed30a26e32a"
      },
      "source": [
        "X, y = fetch_openml('mnist_784', version=1, return_X_y=True)\r\n",
        "pca = PCA(n_components=2)\r\n",
        "X = pca.fit_transform(X)\r\n",
        "clustering = KMeans(n_clusters = 10)\r\n",
        "clusters = clustering.fit_predict(X)\r\n",
        "ss = silhouette_score(X, clusters)\r\n",
        "h, c, v = homogeneity_completeness_v_measure(y, clusters)\r\n",
        "print(ss, v)"
      ],
      "execution_count": 33,
      "outputs": [
        {
          "output_type": "stream",
          "text": [
            "0.3508053025582843 0.35571749241984724\n"
          ],
          "name": "stdout"
        }
      ]
    },
    {
      "cell_type": "code",
      "metadata": {
        "id": "WFE7GP7kSN_1"
      },
      "source": [
        ""
      ],
      "execution_count": null,
      "outputs": []
    }
  ]
}
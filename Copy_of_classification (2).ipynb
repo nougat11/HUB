{
  "nbformat": 4,
  "nbformat_minor": 0,
  "metadata": {
    "kernelspec": {
      "display_name": "Python 3",
      "language": "python",
      "name": "python3"
    },
    "language_info": {
      "codemirror_mode": {
        "name": "ipython",
        "version": 3
      },
      "file_extension": ".py",
      "mimetype": "text/x-python",
      "name": "python",
      "nbconvert_exporter": "python",
      "pygments_lexer": "ipython3",
      "version": "3.8.5"
    },
    "colab": {
      "name": "Copy of classification.ipynb",
      "provenance": [],
      "collapsed_sections": [],
      "toc_visible": true
    }
  },
  "cells": [
    {
      "cell_type": "markdown",
      "metadata": {
        "id": "Oso738PlRoqG"
      },
      "source": [
        "# Classification. Linear models and KNN"
      ]
    },
    {
      "cell_type": "code",
      "metadata": {
        "id": "2zIMmfbHRoqJ"
      },
      "source": [
        "import os\n",
        "import numpy as np\n",
        "import pandas as pd\n",
        "import seaborn as sns\n",
        "import matplotlib.pyplot as plt\n",
        "import seaborn as sns"
      ],
      "execution_count": 41,
      "outputs": []
    },
    {
      "cell_type": "code",
      "metadata": {
        "id": "U6uGo5ItRoqK",
        "colab": {
          "base_uri": "https://localhost:8080/"
        },
        "outputId": "d3e8a87e-5b18-4b24-8d1c-8d578667b917"
      },
      "source": [
        "!pip install -U scikit-learn\n",
        "from sklearn.pipeline import Pipeline\n",
        "from sklearn.compose import ColumnTransformer\n",
        "from sklearn.model_selection import train_test_split, cross_validate\n",
        "from sklearn.metrics import plot_confusion_matrix, accuracy_score\n",
        "from sklearn.linear_model import SGDClassifier, LogisticRegression\n",
        "from sklearn.preprocessing import StandardScaler, OneHotEncoder, MinMaxScaler\n",
        "from sklearn.neighbors import KNeighborsClassifier\n",
        "from sklearn.model_selection import cross_val_score"
      ],
      "execution_count": 42,
      "outputs": [
        {
          "output_type": "stream",
          "text": [
            "Requirement already up-to-date: scikit-learn in /usr/local/lib/python3.7/dist-packages (0.24.1)\n",
            "Requirement already satisfied, skipping upgrade: numpy>=1.13.3 in /usr/local/lib/python3.7/dist-packages (from scikit-learn) (1.19.5)\n",
            "Requirement already satisfied, skipping upgrade: threadpoolctl>=2.0.0 in /usr/local/lib/python3.7/dist-packages (from scikit-learn) (2.1.0)\n",
            "Requirement already satisfied, skipping upgrade: joblib>=0.11 in /usr/local/lib/python3.7/dist-packages (from scikit-learn) (1.0.1)\n",
            "Requirement already satisfied, skipping upgrade: scipy>=0.19.1 in /usr/local/lib/python3.7/dist-packages (from scikit-learn) (1.4.1)\n"
          ],
          "name": "stdout"
        }
      ]
    },
    {
      "cell_type": "markdown",
      "metadata": {
        "id": "tKIzQAY4RoqK"
      },
      "source": [
        "## Part 1: Titanic survival prediction"
      ]
    },
    {
      "cell_type": "markdown",
      "metadata": {
        "id": "AARXGQFuRoqL"
      },
      "source": [
        "### Dataset\n",
        "\n",
        "Read the description here: https://www.kaggle.com/c/titanic/data. Download the dataset and place it in the *data/titanic/* folder in your working directory.\n",
        "You will use train.csv for model training and validation. The test set is used for model testing: once the model is trained, you can predict whether a passenger survived or not for each passenger in the test set, and submit the predictions: https://www.kaggle.com/c/titanic/overview/evaluation.  \n"
      ]
    },
    {
      "cell_type": "code",
      "metadata": {
        "id": "WtAEBBDVRoqL"
      },
      "source": [
        "PATH = \"./data/\""
      ],
      "execution_count": 43,
      "outputs": []
    },
    {
      "cell_type": "code",
      "metadata": {
        "id": "QELcWE0dRoqL"
      },
      "source": [
        "data = pd.read_csv(os.path.join(PATH, 'titanic', 'train.csv')).set_index('PassengerId')\r\n",
        "train_data = pd.read_csv(os.path.join(PATH, 'titanic', 'train.csv')).set_index('PassengerId')\r\n",
        "test_data = pd.read_csv(os.path.join(PATH, 'titanic', 'test.csv')).set_index('PassengerId')"
      ],
      "execution_count": 44,
      "outputs": []
    },
    {
      "cell_type": "code",
      "metadata": {
        "scrolled": true,
        "id": "JM2eKFdpRoqM",
        "colab": {
          "base_uri": "https://localhost:8080/",
          "height": 235
        },
        "outputId": "01fd4f29-d26a-45b8-eb36-487ccdb009e6"
      },
      "source": [
        "data.head()"
      ],
      "execution_count": 45,
      "outputs": [
        {
          "output_type": "execute_result",
          "data": {
            "text/html": [
              "<div>\n",
              "<style scoped>\n",
              "    .dataframe tbody tr th:only-of-type {\n",
              "        vertical-align: middle;\n",
              "    }\n",
              "\n",
              "    .dataframe tbody tr th {\n",
              "        vertical-align: top;\n",
              "    }\n",
              "\n",
              "    .dataframe thead th {\n",
              "        text-align: right;\n",
              "    }\n",
              "</style>\n",
              "<table border=\"1\" class=\"dataframe\">\n",
              "  <thead>\n",
              "    <tr style=\"text-align: right;\">\n",
              "      <th></th>\n",
              "      <th>Survived</th>\n",
              "      <th>Pclass</th>\n",
              "      <th>Name</th>\n",
              "      <th>Sex</th>\n",
              "      <th>Age</th>\n",
              "      <th>SibSp</th>\n",
              "      <th>Parch</th>\n",
              "      <th>Ticket</th>\n",
              "      <th>Fare</th>\n",
              "      <th>Cabin</th>\n",
              "      <th>Embarked</th>\n",
              "    </tr>\n",
              "    <tr>\n",
              "      <th>PassengerId</th>\n",
              "      <th></th>\n",
              "      <th></th>\n",
              "      <th></th>\n",
              "      <th></th>\n",
              "      <th></th>\n",
              "      <th></th>\n",
              "      <th></th>\n",
              "      <th></th>\n",
              "      <th></th>\n",
              "      <th></th>\n",
              "      <th></th>\n",
              "    </tr>\n",
              "  </thead>\n",
              "  <tbody>\n",
              "    <tr>\n",
              "      <th>1</th>\n",
              "      <td>0</td>\n",
              "      <td>3</td>\n",
              "      <td>Braund, Mr. Owen Harris</td>\n",
              "      <td>male</td>\n",
              "      <td>22.0</td>\n",
              "      <td>1</td>\n",
              "      <td>0</td>\n",
              "      <td>A/5 21171</td>\n",
              "      <td>7.2500</td>\n",
              "      <td>NaN</td>\n",
              "      <td>S</td>\n",
              "    </tr>\n",
              "    <tr>\n",
              "      <th>2</th>\n",
              "      <td>1</td>\n",
              "      <td>1</td>\n",
              "      <td>Cumings, Mrs. John Bradley (Florence Briggs Th...</td>\n",
              "      <td>female</td>\n",
              "      <td>38.0</td>\n",
              "      <td>1</td>\n",
              "      <td>0</td>\n",
              "      <td>PC 17599</td>\n",
              "      <td>71.2833</td>\n",
              "      <td>C85</td>\n",
              "      <td>C</td>\n",
              "    </tr>\n",
              "    <tr>\n",
              "      <th>3</th>\n",
              "      <td>1</td>\n",
              "      <td>3</td>\n",
              "      <td>Heikkinen, Miss. Laina</td>\n",
              "      <td>female</td>\n",
              "      <td>26.0</td>\n",
              "      <td>0</td>\n",
              "      <td>0</td>\n",
              "      <td>STON/O2. 3101282</td>\n",
              "      <td>7.9250</td>\n",
              "      <td>NaN</td>\n",
              "      <td>S</td>\n",
              "    </tr>\n",
              "    <tr>\n",
              "      <th>4</th>\n",
              "      <td>1</td>\n",
              "      <td>1</td>\n",
              "      <td>Futrelle, Mrs. Jacques Heath (Lily May Peel)</td>\n",
              "      <td>female</td>\n",
              "      <td>35.0</td>\n",
              "      <td>1</td>\n",
              "      <td>0</td>\n",
              "      <td>113803</td>\n",
              "      <td>53.1000</td>\n",
              "      <td>C123</td>\n",
              "      <td>S</td>\n",
              "    </tr>\n",
              "    <tr>\n",
              "      <th>5</th>\n",
              "      <td>0</td>\n",
              "      <td>3</td>\n",
              "      <td>Allen, Mr. William Henry</td>\n",
              "      <td>male</td>\n",
              "      <td>35.0</td>\n",
              "      <td>0</td>\n",
              "      <td>0</td>\n",
              "      <td>373450</td>\n",
              "      <td>8.0500</td>\n",
              "      <td>NaN</td>\n",
              "      <td>S</td>\n",
              "    </tr>\n",
              "  </tbody>\n",
              "</table>\n",
              "</div>"
            ],
            "text/plain": [
              "             Survived  Pclass  ... Cabin Embarked\n",
              "PassengerId                    ...               \n",
              "1                   0       3  ...   NaN        S\n",
              "2                   1       1  ...   C85        C\n",
              "3                   1       3  ...   NaN        S\n",
              "4                   1       1  ...  C123        S\n",
              "5                   0       3  ...   NaN        S\n",
              "\n",
              "[5 rows x 11 columns]"
            ]
          },
          "metadata": {
            "tags": []
          },
          "execution_count": 45
        }
      ]
    },
    {
      "cell_type": "markdown",
      "metadata": {
        "id": "6-i-s4dCRoqM"
      },
      "source": [
        "### EDA"
      ]
    },
    {
      "cell_type": "markdown",
      "metadata": {
        "id": "R7IMCfI7RoqM"
      },
      "source": [
        "**(0.5 points)** How many females and males are there in the dataset? What about the survived passengers? Is there any relationship between the gender and the survival?"
      ]
    },
    {
      "cell_type": "code",
      "metadata": {
        "id": "usAJo75oRoqN",
        "colab": {
          "base_uri": "https://localhost:8080/"
        },
        "outputId": "0f1e9876-6baa-465d-a0a0-d7fa54545f24"
      },
      "source": [
        "count_males, count_females, count_survived_males, count_survived_females = len(data.loc[data.Sex == 'male']), len(data.loc[data.Sex == 'female']), len(data.loc[(data.Sex == 'male') & (data.Survived == 1)]), len(data.loc[(data.Sex == 'female') & (data.Survived == 1)])\r\n",
        "print(f\"Count males: {count_males} {count_males / (count_males + count_females) * 100}%\")\r\n",
        "print(f\"Count females: {count_females} {count_females / (count_males + count_females) * 100}%\")\r\n",
        "print(f\"Count survived males: {count_survived_males} {count_survived_males / (count_survived_males + count_survived_females) * 100}%\")\r\n",
        "print(f\"Count survived females: {count_survived_females} {count_survived_females / (count_survived_males + count_survived_females) * 100}%\")\r\n"
      ],
      "execution_count": 46,
      "outputs": [
        {
          "output_type": "stream",
          "text": [
            "Count males: 577 64.75869809203144%\n",
            "Count females: 314 35.24130190796858%\n",
            "Count survived males: 109 31.871345029239766%\n",
            "Count survived females: 233 68.12865497076024%\n"
          ],
          "name": "stdout"
        }
      ]
    },
    {
      "cell_type": "markdown",
      "metadata": {
        "id": "_pAyJ77LRoqN"
      },
      "source": [
        "Видно, что соотношение мужчин и женщин поменялось местами. Так что можно делать предположение о том, что женщин погибло гораздо меньше, чем мужчин"
      ]
    },
    {
      "cell_type": "markdown",
      "metadata": {
        "id": "BoFBFWrMRoqN"
      },
      "source": [
        "**(0.5 points)** Plot age distribution of the passengers. What is the average and the median age of survived and deceased passengers? Do age distributions differ for survived and deceased passengers? Why?"
      ]
    },
    {
      "cell_type": "code",
      "metadata": {
        "id": "pfnwEqqoRoqO",
        "colab": {
          "base_uri": "https://localhost:8080/",
          "height": 1000
        },
        "outputId": "8001e61d-a5c1-41c6-d024-11247f44fddf"
      },
      "source": [
        "sns.displot(data, x = 'Age').set(title = 'Age distribution of all passengers')\r\n",
        "surv = data.loc[data.Survived == 1]\r\n",
        "dead = data.loc[data.Survived == 0]\r\n",
        "sns.displot(surv, x='Age').set(title = 'Age distribution of survived passengers')\r\n",
        "sns.displot(dead, x='Age').set(title = 'Age distribution of deceased passengers')\r\n",
        "print(f\"Average and median age of survived passengers: {surv['Age'].mean()} {surv['Age'].median()}\")\r\n",
        "print(f\"Average and median age of deceased passengers: {dead['Age'].mean()} {dead['Age'].median()}\")\r\n",
        "#plt.bar(distr.index, distr.values)\r\n",
        "#plt.show()\r\n",
        "#surv = data.loc[data.Survived == 1]\r\n",
        "#distr = surv.groupby('Age').count().max(axis=1)\r\n",
        "#plt.bar(distr.index, distr.values)\r\n",
        "#plt.show()\r\n"
      ],
      "execution_count": 47,
      "outputs": [
        {
          "output_type": "stream",
          "text": [
            "Average and median age of survived passengers: 28.343689655172415 28.0\n",
            "Average and median age of deceased passengers: 30.62617924528302 28.0\n"
          ],
          "name": "stdout"
        },
        {
          "output_type": "display_data",
          "data": {
            "image/png": "[encoded data removed]",
            "text/plain": [
              "<Figure size 360x360 with 1 Axes>"
            ]
          },
          "metadata": {
            "tags": [],
            "needs_background": "light"
          }
        },
        {
          "output_type": "display_data",
          "data": {
            "image/png": "[encoded data removed]",
            "text/plain": [
              "<Figure size 360x360 with 1 Axes>"
            ]
          },
          "metadata": {
            "tags": [],
            "needs_background": "light"
          }
        },
        {
          "output_type": "display_data",
          "data": {
            "image/png": "[encoded data removed]",
            "text/plain": [
              "<Figure size 360x360 with 1 Axes>"
            ]
          },
          "metadata": {
            "tags": [],
            "needs_background": "light"
          }
        }
      ]
    },
    {
      "cell_type": "markdown",
      "metadata": {
        "id": "1W6fYosCRoqO"
      },
      "source": [
        "Как видим из исследования, разница в возрасте почти не имеет значения."
      ]
    },
    {
      "cell_type": "markdown",
      "metadata": {
        "id": "SyanS7eMRoqO"
      },
      "source": [
        "**(1 point)** Explore \"passenger class\" and \"embarked\" features. What class was \"the safest\"? Is there any relationship between the embarkation port and the survival? Provide the corresponding visualizations."
      ]
    },
    {
      "cell_type": "code",
      "metadata": {
        "id": "KIND59M8RoqO",
        "colab": {
          "base_uri": "https://localhost:8080/"
        },
        "outputId": "c0afa927-1122-4043-90a1-c765d68da4f1"
      },
      "source": [
        "for pclass in set(data.Pclass.values):\r\n",
        "  count_survival = len(data.loc[(data.Pclass == pclass) & (data.Survived == 1)])\r\n",
        "  count_all = len(data.loc[(data.Pclass == pclass)])\r\n",
        "  print(f\"Probability survive in {pclass} class is {count_survival / count_all}\")\r\n",
        "for port in set(filter(lambda x: x == x , set(data.Embarked.values))):\r\n",
        "  count_survival = len(data.loc[(data.Embarked == port) & (data.Survived == 1)])\r\n",
        "  count_all = len(data.loc[(data.Embarked == port)])\r\n",
        "  print(f\"Probability survive in {port} port is {count_survival / count_all}\")\r\n"
      ],
      "execution_count": 48,
      "outputs": [
        {
          "output_type": "stream",
          "text": [
            "Probability survive in 1 class is 0.6296296296296297\n",
            "Probability survive in 2 class is 0.47282608695652173\n",
            "Probability survive in 3 class is 0.24236252545824846\n",
            "Probability survive in S port is 0.33695652173913043\n",
            "Probability survive in Q port is 0.38961038961038963\n",
            "Probability survive in C port is 0.5535714285714286\n"
          ],
          "name": "stdout"
        }
      ]
    },
    {
      "cell_type": "markdown",
      "metadata": {
        "id": "9bm8HRekRoqP"
      },
      "source": [
        "Самый безопасный класс 1ый, большинство выживших в Cherbourg, меньшинство в Southampton."
      ]
    },
    {
      "cell_type": "markdown",
      "metadata": {
        "id": "hUkLQ3IARoqP"
      },
      "source": [
        "### Modelling"
      ]
    },
    {
      "cell_type": "markdown",
      "metadata": {
        "id": "9fCYMTwPRoqP"
      },
      "source": [
        "**(0.5 points)** Find the percentage of missing values for each feature. "
      ]
    },
    {
      "cell_type": "code",
      "metadata": {
        "id": "RyH4IjI7RoqP",
        "colab": {
          "base_uri": "https://localhost:8080/"
        },
        "outputId": "a93aa012-bc3b-4ee2-b2b9-504777e62cbb"
      },
      "source": [
        "percent_missing = data.isnull().sum() * 100 / len(data)\r\n",
        "missing_value_df = pd.DataFrame({'column_name': data.columns,\r\n",
        "                                 'percent_missing': percent_missing})\r\n",
        "print(missing_value_df)\r\n"
      ],
      "execution_count": 49,
      "outputs": [
        {
          "output_type": "stream",
          "text": [
            "         column_name  percent_missing\n",
            "Survived    Survived         0.000000\n",
            "Pclass        Pclass         0.000000\n",
            "Name            Name         0.000000\n",
            "Sex              Sex         0.000000\n",
            "Age              Age        19.865320\n",
            "SibSp          SibSp         0.000000\n",
            "Parch          Parch         0.000000\n",
            "Ticket        Ticket         0.000000\n",
            "Fare            Fare         0.000000\n",
            "Cabin          Cabin        77.104377\n",
            "Embarked    Embarked         0.224467\n"
          ],
          "name": "stdout"
        }
      ]
    },
    {
      "cell_type": "markdown",
      "metadata": {
        "id": "2PXcDWlpRoqP"
      },
      "source": [
        "Think about the ways to handle these missing values for modelling and write your answer below. Which methods would you suggest? What are their advantages and disadvantages?\n",
        "\n",
        "Использование медианы(очень плохо, но быстро), использование наиболее частых характеристик(может внести систематическую ошибку), использование knn."
      ]
    },
    {
      "cell_type": "markdown",
      "metadata": {
        "id": "MNGNcSX2RoqP"
      },
      "source": [
        "**(1.5 points)** Prepare the features and train two models (KNN and Logistic Regression) to predict the survival. Compare the results. Use accuracy as a metric. Don't forget about cross-validation!"
      ]
    },
    {
      "cell_type": "code",
      "metadata": {
        "id": "-1BcLzOcRoqQ"
      },
      "source": [
        "y = data['Survived']"
      ],
      "execution_count": 50,
      "outputs": []
    },
    {
      "cell_type": "code",
      "metadata": {
        "id": "gTlj3KmBRoqQ",
        "colab": {
          "base_uri": "https://localhost:8080/"
        },
        "outputId": "6fbee44a-1aed-4af7-db4f-3144f76bd5dd"
      },
      "source": [
        "from sklearn.ensemble import RandomForestClassifier\r\n",
        "from sklearn.feature_selection import SelectFromModel\r\n",
        "from sklearn.model_selection import GridSearchCV\r\n",
        "from lightgbm import LGBMClassifier\r\n",
        "neigh = LogisticRegression(max_iter=50000, random_state = 0)\r\n",
        "x= train_data.drop(labels = ['Survived', 'Ticket'], axis = 1)\r\n",
        "\r\n",
        "x = process_family(x)\r\n",
        "x = process_embarked(x)\r\n",
        "x = process_sex(x)\r\n",
        "x = process_cabin(x)\r\n",
        "x = get_titles(x)\r\n",
        "x = process_names(x)\r\n",
        "#x = process_pclass(x)\r\n",
        "#x = process_ticket(x)\r\n",
        "x = pd.get_dummies(x)\r\n",
        "\r\n",
        "\r\n",
        "x = x.fillna(method='ffill')\r\n",
        "\r\n",
        "\r\n",
        "cv_scores = cross_val_score(neigh, x, y, cv=5)\r\n",
        "print(cv_scores.mean())"
      ],
      "execution_count": 52,
      "outputs": [
        {
          "output_type": "stream",
          "text": [
            "0.8271671583704727\n"
          ],
          "name": "stdout"
        }
      ]
    },
    {
      "cell_type": "markdown",
      "metadata": {
        "id": "V5ucGtgtRoqQ"
      },
      "source": [
        "**(0.5 + X points)** Try more feature engineering and hyperparameter tuning to improve the results. You may use either KNN or Logistic Regression (or both)."
      ]
    },
    {
      "cell_type": "markdown",
      "metadata": {
        "id": "itBGZfaSDu9V"
      },
      "source": [
        "Попробуем дату инженерию на максималках"
      ]
    },
    {
      "cell_type": "markdown",
      "metadata": {
        "id": "GJ6OFHmiD2hJ"
      },
      "source": [
        "разобьем семьи на чанки"
      ]
    },
    {
      "cell_type": "code",
      "metadata": {
        "id": "R5-sRdSo3nqJ"
      },
      "source": [
        "def process_family(df):\r\n",
        "    df['FamilySize'] = df['Parch'] + df['SibSp'] + 1\r\n",
        "    df['Singleton'] = df['FamilySize'].map(lambda s: 1 if s == 1 else 0)\r\n",
        "    df['SmallFamily'] = df['FamilySize'].map(lambda s: 1 if 2 <= s <= 4 else 0)\r\n",
        "    df['LargeFamily'] = df['FamilySize'].map(lambda s: 1 if 5 <= s else 0)\r\n",
        "    return df"
      ],
      "execution_count": 53,
      "outputs": []
    },
    {
      "cell_type": "markdown",
      "metadata": {
        "id": "mOIBThHkEG-J"
      },
      "source": [
        "разобьем pclass на отдельные переменные"
      ]
    },
    {
      "cell_type": "code",
      "metadata": {
        "id": "SgeUf0xA_21e"
      },
      "source": [
        "def process_pclass(df):\r\n",
        "    pclass_dummies = pd.get_dummies(df['Pclass'], prefix=\"Pclass\")\r\n",
        "    df = pd.concat([df, pclass_dummies],axis=1)\r\n",
        "    df.drop('Pclass',axis=1,inplace=True)\r\n",
        "    return df"
      ],
      "execution_count": 54,
      "outputs": []
    },
    {
      "cell_type": "markdown",
      "metadata": {
        "id": "KgLoHCf8ETHc"
      },
      "source": [
        "также сделаем с embarked и пустые клетки заполним sкой, т.к наиболее встречаемая"
      ]
    },
    {
      "cell_type": "code",
      "metadata": {
        "id": "VAm3N5oF3Lby"
      },
      "source": [
        "def process_embarked(df):\r\n",
        "    df.Embarked.fillna('S', inplace=True)\r\n",
        "    embarked_dummies = pd.get_dummies(df['Embarked'], prefix='Embarked')\r\n",
        "    df = pd.concat([df, embarked_dummies], axis=1)\r\n",
        "    df.drop('Embarked', axis=1, inplace=True)\r\n",
        "    return df"
      ],
      "execution_count": 55,
      "outputs": []
    },
    {
      "cell_type": "markdown",
      "metadata": {
        "id": "20DS7Tx4EjW-"
      },
      "source": [
        "пол заполним цифрой, без разбиения. Почему? Потому что дает больший результат))"
      ]
    },
    {
      "cell_type": "code",
      "metadata": {
        "id": "5e4HHStc6S3e"
      },
      "source": [
        "def process_sex(df):\r\n",
        "    df['Sex'] = df['Sex'].map({'male':1, 'female':0})\r\n",
        "    return df"
      ],
      "execution_count": 56,
      "outputs": []
    },
    {
      "cell_type": "code",
      "metadata": {
        "id": "ygIJ8bFxvygq"
      },
      "source": [
        "def process_cabin(df):    \r\n",
        "   df.Cabin.fillna('U', inplace=True)\r\n",
        "   df['Cabin'] = df['Cabin'].map(lambda c: c[0])\r\n",
        "   cabin_dummies = pd.get_dummies(df['Cabin'], prefix='Cabin')    \r\n",
        "   df = pd.concat([df, cabin_dummies], axis=1)\r\n",
        "   df.drop('Cabin', axis=1, inplace=True)\r\n",
        "   return df"
      ],
      "execution_count": 57,
      "outputs": []
    },
    {
      "cell_type": "markdown",
      "metadata": {
        "id": "klbrMiAWE6N1"
      },
      "source": [
        "обработаем билеты"
      ]
    },
    {
      "cell_type": "code",
      "metadata": {
        "id": "rTh4cMbX6pGq"
      },
      "source": [
        "def process_ticket(df):\r\n",
        "    def cleanTicket(ticket):\r\n",
        "        ticket = ticket.replace('.','')\r\n",
        "        ticket = ticket.replace('/','')\r\n",
        "        ticket = ticket.split()\r\n",
        "        ticket = map(lambda t : t.strip(), ticket)\r\n",
        "        ticket = list(filter(lambda t : not t.isdigit(), ticket))\r\n",
        "        if len(ticket) > 0:\r\n",
        "            return ticket[0]\r\n",
        "        else: \r\n",
        "            return 'XXX'\r\n",
        "    df['Ticket'] = df['Ticket'].map(cleanTicket)\r\n",
        "    tickets_dummies = pd.get_dummies(df['Ticket'], prefix='Ticket')\r\n",
        "    df = pd.concat([df, tickets_dummies], axis=1)\r\n",
        "    df.drop('Ticket', inplace=True, axis=1)\r\n",
        "    return df"
      ],
      "execution_count": 58,
      "outputs": []
    },
    {
      "cell_type": "markdown",
      "metadata": {
        "id": "NsdoTgjyFCYm"
      },
      "source": [
        "а имена разделим тоже на чанки"
      ]
    },
    {
      "cell_type": "code",
      "metadata": {
        "id": "n1Ddr1Z09zyv"
      },
      "source": [
        "Title_Dictionary = {\r\n",
        "    \"Capt\": \"Officer\",\r\n",
        "    \"Col\": \"Officer\",\r\n",
        "    \"Major\": \"Officer\",\r\n",
        "    \"Jonkheer\": \"Royalty\",\r\n",
        "    \"Don\": \"Royalty\",\r\n",
        "    \"Sir\" : \"Royalty\",\r\n",
        "    \"Dr\": \"Officer\",\r\n",
        "    \"Rev\": \"Officer\",\r\n",
        "    \"the Countess\":\"Royalty\",\r\n",
        "    \"Mme\": \"Mrs\",\r\n",
        "    \"Mlle\": \"Miss\",\r\n",
        "    \"Ms\": \"Mrs\",\r\n",
        "    \"Mr\" : \"Mr\",\r\n",
        "    \"Mrs\" : \"Mrs\",\r\n",
        "    \"Miss\" : \"Miss\",\r\n",
        "    \"Master\" : \"Master\",\r\n",
        "    \"Lady\" : \"Royalty\"\r\n",
        "}\r\n",
        "\r\n",
        "def get_titles(df):\r\n",
        "    df['Title'] = df['Name'].map(lambda name:name.split(',')[1].split('.')[0].strip())\r\n",
        "    df['Title'] = df.Title.map(Title_Dictionary)\r\n",
        "    return df"
      ],
      "execution_count": 59,
      "outputs": []
    },
    {
      "cell_type": "code",
      "metadata": {
        "id": "DwBSXnDG-SGl"
      },
      "source": [
        "def process_names(df):\r\n",
        "    df.drop('Name', axis=1, inplace=True)\r\n",
        "    titles_dummies = pd.get_dummies(df['Title'], prefix='Title')\r\n",
        "    df = pd.concat([df, titles_dummies], axis=1)\r\n",
        "    df.drop('Title', axis=1, inplace=True)\r\n",
        "    return df"
      ],
      "execution_count": 60,
      "outputs": []
    },
    {
      "cell_type": "code",
      "metadata": {
        "id": "SNGu932CRoqQ",
        "colab": {
          "base_uri": "https://localhost:8080/"
        },
        "outputId": "a55b00c1-b96d-4b9c-a7b3-a824fffbf198"
      },
      "source": [
        "y = data['Survived']\r\n",
        "from sklearn.ensemble import RandomForestClassifier\r\n",
        "from sklearn.feature_selection import SelectFromModel\r\n",
        "from sklearn.model_selection import GridSearchCV\r\n",
        "neigh = LogisticRegression()\r\n",
        "x=data.drop(labels = ['Survived', 'Name', 'SibSp', 'Cabin', 'Ticket'], axis = 1)\r\n",
        "x = pd.get_dummies(x)\r\n",
        "x = x.fillna(method='bfill')\r\n",
        "x = StandardScaler().fit_transform(x)\r\n",
        "cv_scores = cross_val_score(neigh, x, y, cv=5)\r\n",
        "print(cv_scores.mean())"
      ],
      "execution_count": 61,
      "outputs": [
        {
          "output_type": "stream",
          "text": [
            "0.7856506182913815\n"
          ],
          "name": "stdout"
        }
      ]
    },
    {
      "cell_type": "markdown",
      "metadata": {
        "id": "QOCqcFTaRoqQ"
      },
      "source": [
        "Load the test set and make the predictions. Submit them to kaggle and see the results :)\n",
        "Select the best model, load the test set and make the predictions. Submit them to kaggle.\n",
        "\n",
        "**Note**. X points will depend on your kaggle leaderboard score.\n",
        "$$ f(score) = 0.5, \\ \\ 0.76 \\leq score < 0.78,$$\n",
        "$$ f(score) = 1.0, \\ \\ 0.78 \\leq score < 0.81,$$ \n",
        "$$ f(score) = 2.5, \\ \\ 0.81 \\leq score $$ \n",
        "Your code should generate the output submitted to kaggle. Fix random seeds to make the results reproducible."
      ]
    },
    {
      "cell_type": "code",
      "metadata": {
        "colab": {
          "base_uri": "https://localhost:8080/"
        },
        "id": "n6-2wSx2eR1y",
        "outputId": "b7dd92bd-1f79-49a3-885d-3570ca82706c"
      },
      "source": [
        "neigh = LogisticRegression(random_state=42, max_iter=50000)\r\n",
        "x = train_data.copy()\r\n",
        "X = test_data.copy()\r\n",
        "x = x.drop(labels=['Survived', 'Ticket'], axis = 1)\r\n",
        "X = X.drop(labels=[ 'Ticket'], axis = 1)\r\n",
        "x = process_family(x)\r\n",
        "x = process_embarked(x)\r\n",
        "x = process_sex(x)\r\n",
        "x = process_cabin(x)\r\n",
        "x = get_titles(x)\r\n",
        "x = process_names(x)\r\n",
        "X = process_family(X)\r\n",
        "X = process_embarked(X)\r\n",
        "X = process_sex(X)\r\n",
        "X = process_cabin(X)\r\n",
        "X = get_titles(X)\r\n",
        "X = process_names(X)\r\n",
        "x = pd.get_dummies(x)\r\n",
        "X = pd.get_dummies(X)\r\n",
        "features = X.columns\r\n",
        "x = x[features]\r\n",
        "X = X[features]\r\n",
        "x = x.fillna(method = 'ffill')\r\n",
        "X = X.fillna(method = 'ffill')\r\n",
        "clf = RandomForestClassifier(random_state=42)\r\n",
        "clf = clf.fit(x, y)\r\n",
        "model = SelectFromModel(clf, prefit=True)\r\n",
        "x = model.transform(x)\r\n",
        "X = model.transform(X)\r\n",
        "neigh.fit(x,y)\r\n",
        "predictions = neigh.predict(X)\r\n",
        "output = pd.DataFrame({'PassengerId': test_data.index, 'Survived': predictions})\r\n",
        "output.to_csv('y_submission.csv', index=False)\r\n",
        "print(\"Your submission was successfully saved!\")"
      ],
      "execution_count": 62,
      "outputs": [
        {
          "output_type": "stream",
          "text": [
            "Your submission was successfully saved!\n"
          ],
          "name": "stdout"
        }
      ]
    },
    {
      "cell_type": "markdown",
      "metadata": {
        "id": "U_glS9n-KSXp"
      },
      "source": [
        "SCORE: 0.78229 ник nougat11\r\n",
        "Какие бы подходы не делал, на логистической регрессии выше 0.794 прыгнуть не удалось. Классификатор не бустил, ибо бусты его работают не стабильно"
      ]
    },
    {
      "cell_type": "markdown",
      "metadata": {
        "id": "WtHAi2jPRoqR"
      },
      "source": [
        "## Part 2: Porto Seguro’s Safe Driver Prediction"
      ]
    },
    {
      "cell_type": "markdown",
      "metadata": {
        "id": "1qlft30MRoqR"
      },
      "source": [
        "Let's build a model that predicts the probability that a driver will initiate an auto insurance claim in the next year.\n",
        "Read the detailed description and download the dataset https://www.kaggle.com/c/porto-seguro-safe-driver-prediction/data. Put the data into *./data/porto/*."
      ]
    },
    {
      "cell_type": "code",
      "metadata": {
        "id": "GWEzySD1RoqR"
      },
      "source": [
        "insurance_data = pd.read_csv(os.path.join(PATH, 'porto', 'train.csv')).set_index('id')"
      ],
      "execution_count": null,
      "outputs": []
    },
    {
      "cell_type": "code",
      "metadata": {
        "id": "YyffTcrcRoqR"
      },
      "source": [
        "insurance_data.head()"
      ],
      "execution_count": null,
      "outputs": []
    },
    {
      "cell_type": "markdown",
      "metadata": {
        "id": "q2R6CG7URoqS"
      },
      "source": [
        "Let's skip EDA for now. We'll use SGDClassifier and build a simple baseline: https://scikit-learn.org/stable/modules/generated/sklearn.linear_model.SGDClassifier.html.\n",
        "Note that loss='log' gives logistic regression."
      ]
    },
    {
      "cell_type": "code",
      "metadata": {
        "id": "Irp6TWe_RoqS"
      },
      "source": [
        "y = insurance_data['target']\n",
        "X = insurance_data.drop(columns=['target'])"
      ],
      "execution_count": null,
      "outputs": []
    },
    {
      "cell_type": "code",
      "metadata": {
        "id": "m4zk1fW-RoqS"
      },
      "source": [
        "numeric_features = [column for column in X if not (column.endswith(\"cat\") or column.endswith(\"bin\"))]\n",
        "numeric_transformer = Pipeline(steps=[('scaler', StandardScaler())])\n",
        "\n",
        "categorical_features = [column for column in X if (column.endswith(\"cat\") or column.endswith(\"bin\"))]\n",
        "categorical_transformer = Pipeline(steps=[('encoder', OneHotEncoder(handle_unknown='ignore'))])\n",
        "\n",
        "preprocessor = ColumnTransformer(\n",
        "    transformers=[\n",
        "        ('num', numeric_transformer, numeric_features),\n",
        "        ('cat', categorical_transformer, categorical_features)])\n",
        "\n",
        "pipeline = Pipeline(steps=[('preprocessor', preprocessor),\n",
        "                           ('classifier', SGDClassifier(loss='log', alpha=0.001, n_jobs=-1, random_state=14))])"
      ],
      "execution_count": null,
      "outputs": []
    },
    {
      "cell_type": "code",
      "metadata": {
        "id": "0jsbaYCKRoqS"
      },
      "source": [
        "X_train, X_valid, y_train, y_valid = train_test_split(X, y, test_size=0.3, random_state=42)"
      ],
      "execution_count": null,
      "outputs": []
    },
    {
      "cell_type": "code",
      "metadata": {
        "id": "SmTUTjt2RoqS"
      },
      "source": [
        "clf = pipeline.fit(X_train, y_train)"
      ],
      "execution_count": null,
      "outputs": []
    },
    {
      "cell_type": "markdown",
      "metadata": {
        "id": "7tWl0SbFRoqT"
      },
      "source": [
        "We'll calculate the model accuracy:"
      ]
    },
    {
      "cell_type": "code",
      "metadata": {
        "id": "7Sf00Ps5RoqT"
      },
      "source": [
        "accuracy_score(y_true=y_valid, y_pred=clf.predict(X_valid))"
      ],
      "execution_count": null,
      "outputs": []
    },
    {
      "cell_type": "markdown",
      "metadata": {
        "id": "8nMLGSF8RoqT"
      },
      "source": [
        "Wow! Our model gets ~0.963 accuracy! But is it really good?...\n",
        "\n",
        "Let's plot the confusion matrix and analyze the errors."
      ]
    },
    {
      "cell_type": "code",
      "metadata": {
        "id": "-VPl8Rv5RoqT"
      },
      "source": [
        "disp = plot_confusion_matrix(clf, X_valid, y_valid,\n",
        "                             cmap=plt.cm.Blues,\n",
        "                             normalize=None)"
      ],
      "execution_count": null,
      "outputs": []
    },
    {
      "cell_type": "markdown",
      "metadata": {
        "id": "uAgWGLiyRoqT"
      },
      "source": [
        "Well, it turns out that our model is completely useless. Let's calculate some basic statistics:"
      ]
    },
    {
      "cell_type": "code",
      "metadata": {
        "scrolled": true,
        "id": "rikwZn-8RoqU"
      },
      "source": [
        "insurance_data.describe()"
      ],
      "execution_count": null,
      "outputs": []
    },
    {
      "cell_type": "markdown",
      "metadata": {
        "id": "y5O55gp0RoqU"
      },
      "source": [
        "As you see, there are less than 4% of positive examples, so we have to deal with a highly imbalanced dataset."
      ]
    },
    {
      "cell_type": "code",
      "metadata": {
        "id": "a6BhOepWRoqU"
      },
      "source": [
        "sns.countplot(x='target', data=insurance_data)\n",
        "plt.show()"
      ],
      "execution_count": null,
      "outputs": []
    },
    {
      "cell_type": "markdown",
      "metadata": {
        "id": "gdPYG5PfRoqU"
      },
      "source": [
        "Accuracy is not informative here and the Normalized Gini Coefficient will be used instead: https://www.kaggle.com/c/porto-seguro-safe-driver-prediction/overview/evaluation."
      ]
    },
    {
      "cell_type": "code",
      "metadata": {
        "id": "umLN1bibRoqU"
      },
      "source": [
        "# Code for calculating Normalized gini coefficient\n",
        "# https://www.kaggle.com/c/ClaimPredictionChallenge/discussion/703\n",
        "def gini(actual, pred, cmpcol = 0, sortcol = 1):  \n",
        "    assert(len(actual) == len(pred))  \n",
        "    epsilon = 1e-7\n",
        "    values = np.asarray(np.c_[actual, pred, np.arange(len(actual))], dtype=np.float)  \n",
        "    values = values[np.lexsort((values[:, 2], -1 * values[:, 1]))]  \n",
        "    total = values[:, 0].sum() \n",
        "    gini_sum = (values[:, 0].cumsum().sum() + epsilon) / (total + epsilon)  \n",
        "  \n",
        "    gini_sum -= (len(actual) + 1) / 2  \n",
        "    return gini_sum / len(actual)  \n",
        "  \n",
        "def gini_normalized(a, p):  \n",
        "    '''Function to calculate the normalized gini coefficient'''\n",
        "    return gini(a, p) / gini(a, a)"
      ],
      "execution_count": null,
      "outputs": []
    },
    {
      "cell_type": "markdown",
      "metadata": {
        "id": "T7wDeXPBRoqV"
      },
      "source": [
        "**(1.5 points)** Prove that the **Normalized Gini Coefficient** is equivalent to **2 x AUC - 1** :"
      ]
    },
    {
      "cell_type": "markdown",
      "metadata": {
        "id": "tCP1qXeYRoqV"
      },
      "source": [
        "< your proof >"
      ]
    },
    {
      "cell_type": "markdown",
      "metadata": {
        "id": "6MlGsI-HRoqV"
      },
      "source": [
        "**(0.5 points)** By the way, what other metrics could you suggest for this problem?"
      ]
    },
    {
      "cell_type": "markdown",
      "metadata": {
        "id": "fldJSADFRoqV"
      },
      "source": [
        "< your thoughts >"
      ]
    },
    {
      "cell_type": "markdown",
      "metadata": {
        "id": "MvEx-EgxRoqV"
      },
      "source": [
        "Let's calculate the Normalized Gini Coefficient:"
      ]
    },
    {
      "cell_type": "code",
      "metadata": {
        "id": "II1x6rLaRoqW"
      },
      "source": [
        "y_pred = clf.predict_proba(X_valid)[:, 1]"
      ],
      "execution_count": null,
      "outputs": []
    },
    {
      "cell_type": "code",
      "metadata": {
        "id": "6JtTRk8cRoqW"
      },
      "source": [
        "gini_normalized(y_valid, y_pred)"
      ],
      "execution_count": null,
      "outputs": []
    },
    {
      "cell_type": "markdown",
      "metadata": {
        "id": "WDSLXal3RoqW"
      },
      "source": [
        "**(0.5 points + Y bonus points)** Try different approaches: oversampling / undersampling, careful feature analysis and feature engineering, etc., to get a reasonable pipeline and improve the model quality. Use cross-validation for model evaluation.\n",
        "\n",
        "Select the best model, load the test set and make the predictions. Submit them to kaggle.\n",
        "Y bonus points will be calculated as $\\frac{round(200 * \\max(score - 0.253, 0))}{2}$, where *score* is your kaggle leaderboard score.\n",
        "\n",
        "Note: do not use any classification models which have not been covered in the lessons yet."
      ]
    },
    {
      "cell_type": "code",
      "metadata": {
        "id": "u4yw4pq5RoqW"
      },
      "source": [
        "## your code"
      ],
      "execution_count": null,
      "outputs": []
    }
  ]
}